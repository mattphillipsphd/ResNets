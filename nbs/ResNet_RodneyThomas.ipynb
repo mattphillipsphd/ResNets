{
 "cells": [
  {
   "cell_type": "markdown",
   "metadata": {
    "deletable": true,
    "editable": true
   },
   "source": [
    "This was put together in a couple of hours using code that I used to participate in other Kaggle events. This is a basic startup for those that are interested in using residual networks using Keras. With the code below, the hardware that I was using is:\n",
    "\n",
    "1.    Ubuntu 14.04\n",
    "2.    x64 I7 processor\n",
    "3.    Python 2.7\n",
    "4.    Used PIP installer for all python packages (and apt-get for specialized code such as OpenCV)\n",
    "5.    SSD Harddrive with 1TB storage (I don't think you need more than 100GB though)\n",
    "6.    NVidia 1080 GTX Founders Edition graphics card\n",
    "\n",
    "This was meant as a starting point to build upon for those that are interested.\n",
    "\n",
    "Enjoy!\n",
    "\n",
    "Rodney Thomas"
   ]
  },
  {
   "cell_type": "code",
   "execution_count": 1,
   "metadata": {
    "collapsed": false,
    "deletable": true,
    "editable": true
   },
   "outputs": [
    {
     "name": "stderr",
     "output_type": "stream",
     "text": [
      "Using Theano backend.\n",
      "WARNING (theano.sandbox.cuda): The cuda backend is deprecated and will be removed in the next release (v0.10).  Please switch to the gpuarray backend. You can get more information about how to switch at this URL:\n",
      " https://github.com/Theano/Theano/wiki/Converting-to-the-new-gpu-back-end%28gpuarray%29\n",
      "\n",
      "Using gpu device 0: GeForce GTX 1080 (CNMeM is disabled, cuDNN 5110)\n"
     ]
    }
   ],
   "source": [
    "from __future__ import division\n",
    "\n",
    "import six\n",
    "import numpy as np\n",
    "import pandas as pd\n",
    "import cv2\n",
    "import glob\n",
    "import random\n",
    "\n",
    "np.random.seed(2016)\n",
    "random.seed(2016)\n",
    "\n",
    "from keras.models import Model\n",
    "from keras.layers import Input, Activation, merge, Dense, Flatten\n",
    "from keras.layers.convolutional import Convolution2D, MaxPooling2D, AveragePooling2D\n",
    "from keras.layers.normalization import BatchNormalization\n",
    "from keras.regularizers import l2\n",
    "from keras import backend as K\n",
    "from keras.callbacks import EarlyStopping, ModelCheckpoint"
   ]
  },
  {
   "cell_type": "markdown",
   "metadata": {
    "deletable": true,
    "editable": true
   },
   "source": [
    "## Removes autoscroll throughout process"
   ]
  },
  {
   "cell_type": "code",
   "execution_count": 2,
   "metadata": {
    "collapsed": false,
    "deletable": true,
    "editable": true
   },
   "outputs": [
    {
     "data": {
      "application/javascript": [
       "IPython.OutputArea.prototype._should_scroll = function(lines) {\n",
       "    return false;\n",
       "}"
      ],
      "text/plain": [
       "<IPython.core.display.Javascript object>"
      ]
     },
     "metadata": {},
     "output_type": "display_data"
    }
   ],
   "source": [
    "%%javascript\n",
    "IPython.OutputArea.prototype._should_scroll = function(lines) {\n",
    "    return false;\n",
    "}"
   ]
  },
  {
   "cell_type": "markdown",
   "metadata": {
    "deletable": true,
    "editable": true
   },
   "source": [
    "## Global Declarations"
   ]
  },
  {
   "cell_type": "code",
   "execution_count": 23,
   "metadata": {
    "collapsed": true,
    "deletable": true,
    "editable": true
   },
   "outputs": [],
   "source": [
    "conf = dict()\n",
    "\n",
    "# How many patients will be in train and validation set during training. Range: (0; 1)\n",
    "conf['train_valid_fraction'] = 0.75\n",
    "\n",
    "# Batch size for CNN [Depends on GPU and memory available]\n",
    "conf['batch_size'] = 1\n",
    "\n",
    "# Number of epochs for CNN training\n",
    "#conf['nb_epoch'] = 200\n",
    "conf['nb_epoch'] = 10\n",
    "\n",
    "# Early stopping. Stop training after epochs without improving on validation\n",
    "conf['patience'] = 3\n",
    "\n",
    "# Shape of image for CNN (Larger the better, but you need to increase CNN as well)\n",
    "#conf['image_shape'] = (4160,4128)\n",
    "#conf['image_shape'] = (2080,2064)\n",
    "#conf['image_shape'] = (1024,1024)\n",
    "conf['image_shape'] = (64,64)"
   ]
  },
  {
   "cell_type": "markdown",
   "metadata": {
    "deletable": true,
    "editable": true
   },
   "source": [
    "## Residual Network Class"
   ]
  },
  {
   "cell_type": "code",
   "execution_count": 4,
   "metadata": {
    "collapsed": true,
    "deletable": true,
    "editable": true
   },
   "outputs": [],
   "source": [
    "def _bn_relu(input):\n",
    "    \"\"\"Helper to build a BN -> relu block\n",
    "    \"\"\"\n",
    "    norm = BatchNormalization(axis=CHANNEL_AXIS)(input)\n",
    "    return Activation(\"relu\")(norm)"
   ]
  },
  {
   "cell_type": "code",
   "execution_count": 5,
   "metadata": {
    "collapsed": true,
    "deletable": true,
    "editable": true
   },
   "outputs": [],
   "source": [
    "def _conv_bn_relu(**conv_params):\n",
    "    \"\"\"Helper to build a conv -> BN -> relu block\n",
    "    \"\"\"\n",
    "    nb_filter = conv_params[\"nb_filter\"]\n",
    "    nb_row = conv_params[\"nb_row\"]\n",
    "    nb_col = conv_params[\"nb_col\"]\n",
    "    subsample = conv_params.setdefault(\"subsample\", (1, 1))\n",
    "    init = conv_params.setdefault(\"init\", \"he_normal\")\n",
    "    border_mode = conv_params.setdefault(\"border_mode\", \"same\")\n",
    "    W_regularizer = conv_params.setdefault(\"W_regularizer\", l2(1.e-4))\n",
    "\n",
    "    def f(input):\n",
    "        conv = Convolution2D(nb_filter=nb_filter, nb_row=nb_row, nb_col=nb_col, subsample=subsample,\n",
    "                             init=init, border_mode=border_mode, W_regularizer=W_regularizer)(input)\n",
    "        return _bn_relu(conv)\n",
    "\n",
    "    return f"
   ]
  },
  {
   "cell_type": "code",
   "execution_count": 6,
   "metadata": {
    "collapsed": true,
    "deletable": true,
    "editable": true
   },
   "outputs": [],
   "source": [
    "def _bn_relu_conv(**conv_params):\n",
    "    \"\"\"Helper to build a BN -> relu -> conv block.\n",
    "    This is an improved scheme proposed in http://arxiv.org/pdf/1603.05027v2.pdf\n",
    "    \"\"\"\n",
    "    nb_filter = conv_params[\"nb_filter\"]\n",
    "    nb_row = conv_params[\"nb_row\"]\n",
    "    nb_col = conv_params[\"nb_col\"]\n",
    "    subsample = conv_params.setdefault(\"subsample\", (1,1))\n",
    "    init = conv_params.setdefault(\"init\", \"he_normal\")\n",
    "    border_mode = conv_params.setdefault(\"border_mode\", \"same\")\n",
    "    W_regularizer = conv_params.setdefault(\"W_regularizer\", l2(1.e-4))\n",
    "\n",
    "    def f(input):\n",
    "        activation = _bn_relu(input)\n",
    "        return Convolution2D(nb_filter=nb_filter, nb_row=nb_row, nb_col=nb_col, subsample=subsample,\n",
    "                             init=init, border_mode=border_mode, W_regularizer=W_regularizer)(activation)\n",
    "\n",
    "    return f"
   ]
  },
  {
   "cell_type": "code",
   "execution_count": 7,
   "metadata": {
    "collapsed": true,
    "deletable": true,
    "editable": true
   },
   "outputs": [],
   "source": [
    "def _shortcut(input, residual):\n",
    "    \"\"\"Adds a shortcut between input and residual block and merges them with \"sum\"\n",
    "    \"\"\"\n",
    "    # Expand channels of shortcut to match residual.\n",
    "    # Stride appropriately to match residual (width, height)\n",
    "    # Should be int if network architecture is correctly configured.\n",
    "    input_shape = K.int_shape(input)\n",
    "    residual_shape = K.int_shape(residual)\n",
    "    stride_width = int(round(input_shape[ROW_AXIS] / residual_shape[ROW_AXIS]))\n",
    "    stride_height = int(round(input_shape[COL_AXIS] / residual_shape[COL_AXIS]))\n",
    "    equal_channels = input_shape[CHANNEL_AXIS] == residual_shape[CHANNEL_AXIS]\n",
    "\n",
    "    shortcut = input\n",
    "    # 1 X 1 conv if shape is different. Else identity.\n",
    "    if stride_width > 1 or stride_height > 1 or not equal_channels:\n",
    "        shortcut = Convolution2D(nb_filter=residual_shape[CHANNEL_AXIS],\n",
    "                                 nb_row=1, nb_col=1,\n",
    "                                 subsample=(stride_width, stride_height),\n",
    "                                 init=\"he_normal\", border_mode=\"valid\",\n",
    "                                 W_regularizer=l2(0.0001))(input)\n",
    "\n",
    "    return merge([shortcut, residual], mode=\"sum\")"
   ]
  },
  {
   "cell_type": "code",
   "execution_count": 8,
   "metadata": {
    "collapsed": true,
    "deletable": true,
    "editable": true
   },
   "outputs": [],
   "source": [
    "def _residual_block(block_function, nb_filter, repetitions, is_first_layer=False):\n",
    "    \"\"\"Builds a residual block with repeating bottleneck blocks.\n",
    "    \"\"\"\n",
    "    def f(input):\n",
    "        for i in range(repetitions):\n",
    "            init_subsample = (1, 1)\n",
    "            if i == 0 and not is_first_layer:\n",
    "                init_subsample = (2, 2)\n",
    "            input = block_function(nb_filter=nb_filter, init_subsample=init_subsample,\n",
    "                                   is_first_block_of_first_layer=(is_first_layer and i == 0))(input)\n",
    "        return input\n",
    "\n",
    "    return f"
   ]
  },
  {
   "cell_type": "code",
   "execution_count": 9,
   "metadata": {
    "collapsed": true,
    "deletable": true,
    "editable": true
   },
   "outputs": [],
   "source": [
    "def basic_block(nb_filter, init_subsample=(1, 1), is_first_block_of_first_layer=False):\n",
    "    \"\"\"Basic 3 X 3 convolution blocks for use on resnets with layers <= 34.\n",
    "    Follows improved proposed scheme in http://arxiv.org/pdf/1603.05027v2.pdf\n",
    "    \"\"\"\n",
    "    def f(input):\n",
    "\n",
    "        if is_first_block_of_first_layer:\n",
    "            # don't repeat bn->relu since we just did bn->relu->maxpool\n",
    "            conv1 = Convolution2D(nb_filter=nb_filter,\n",
    "                                 nb_row=3, nb_col=3,\n",
    "                                 subsample=init_subsample,\n",
    "                                 init=\"he_normal\", border_mode=\"same\",\n",
    "                                 W_regularizer=l2(0.0001))(input)\n",
    "        else:\n",
    "            conv1 = _bn_relu_conv(nb_filter=nb_filter, nb_row=3, nb_col=3,\n",
    "                                  subsample=init_subsample)(input)\n",
    "\n",
    "        residual = _bn_relu_conv(nb_filter=nb_filter, nb_row=3, nb_col=3)(conv1)\n",
    "        return _shortcut(input, residual)\n",
    "\n",
    "    return f"
   ]
  },
  {
   "cell_type": "code",
   "execution_count": 10,
   "metadata": {
    "collapsed": true,
    "deletable": true,
    "editable": true
   },
   "outputs": [],
   "source": [
    "def bottleneck(nb_filter, init_subsample=(1, 1), is_first_block_of_first_layer=False):\n",
    "    \"\"\"Bottleneck architecture for > 34 layer resnet.\n",
    "    Follows improved proposed scheme in http://arxiv.org/pdf/1603.05027v2.pdf\n",
    "\n",
    "    Returns:\n",
    "        A final conv layer of nb_filter * 4\n",
    "    \"\"\"\n",
    "    def f(input):\n",
    "\n",
    "        if is_first_block_of_first_layer:\n",
    "            # don't repeat bn->relu since we just did bn->relu->maxpool\n",
    "            conv_1_1 = Convolution2D(nb_filter=nb_filter,\n",
    "                                 nb_row=1, nb_col=1,\n",
    "                                 subsample=init_subsample,\n",
    "                                 init=\"he_normal\", border_mode=\"same\",\n",
    "                                 W_regularizer=l2(0.0001))(input)\n",
    "        else:\n",
    "            conv_1_1 = _bn_relu_conv(nb_filter=nb_filter, nb_row=1, nb_col=1,\n",
    "                                     subsample=init_subsample)(input)\n",
    "\n",
    "        conv_3_3 = _bn_relu_conv(nb_filter=nb_filter, nb_row=3, nb_col=3)(conv_1_1)\n",
    "        residual = _bn_relu_conv(nb_filter=nb_filter * 4, nb_row=1, nb_col=1)(conv_3_3)\n",
    "        return _shortcut(input, residual)\n",
    "\n",
    "    return f"
   ]
  },
  {
   "cell_type": "code",
   "execution_count": 11,
   "metadata": {
    "collapsed": true,
    "deletable": true,
    "editable": true
   },
   "outputs": [],
   "source": [
    "def _handle_dim_ordering():\n",
    "    global ROW_AXIS\n",
    "    global COL_AXIS\n",
    "    global CHANNEL_AXIS\n",
    "    if K.image_dim_ordering() == 'tf':\n",
    "        ROW_AXIS = 1\n",
    "        COL_AXIS = 2\n",
    "        CHANNEL_AXIS = 3\n",
    "    else:\n",
    "        CHANNEL_AXIS = 1\n",
    "        ROW_AXIS = 2\n",
    "        COL_AXIS = 3"
   ]
  },
  {
   "cell_type": "code",
   "execution_count": 12,
   "metadata": {
    "collapsed": true,
    "deletable": true,
    "editable": true
   },
   "outputs": [],
   "source": [
    "def _get_block(identifier):\n",
    "    if isinstance(identifier, six.string_types):\n",
    "        res = globals().get(identifier)\n",
    "        if not res:\n",
    "            raise ValueError('Invalid {}'.format(identifier))\n",
    "        return res\n",
    "    return identifier"
   ]
  },
  {
   "cell_type": "code",
   "execution_count": 13,
   "metadata": {
    "collapsed": true,
    "deletable": true,
    "editable": true
   },
   "outputs": [],
   "source": [
    "class ResnetBuilder(object):\n",
    "    @staticmethod\n",
    "    def build(input_shape, num_outputs, block_fn, repetitions):\n",
    "        \"\"\"Builds a custom ResNet like architecture.\n",
    "\n",
    "        Args:\n",
    "            input_shape: The input shape in the form (nb_channels, nb_rows, nb_cols)\n",
    "            num_outputs: The number of outputs at final softmax layer\n",
    "            block_fn: The block function to use. This is either `basic_block` or `bottleneck`.\n",
    "                The original paper used basic_block for layers < 50\n",
    "            repetitions: Number of repetitions of various block units.\n",
    "                At each block unit, the number of filters are doubled and the input size is halved\n",
    "\n",
    "        Returns:\n",
    "            The keras `Model`.\n",
    "        \"\"\"\n",
    "        _handle_dim_ordering()\n",
    "        if len(input_shape) != 3:\n",
    "            raise Exception(\"Input shape should be a tuple (nb_channels, nb_rows, nb_cols)\")\n",
    "\n",
    "        # Permute dimension order if necessary\n",
    "        if K.image_dim_ordering() == 'tf':\n",
    "            input_shape = (input_shape[1], input_shape[2], input_shape[0])\n",
    "\n",
    "        # Load function from str if needed.\n",
    "        block_fn = _get_block(block_fn)\n",
    "\n",
    "        input = Input(shape=input_shape)\n",
    "        conv1 = _conv_bn_relu(nb_filter=64, nb_row=7, nb_col=7, subsample=(2, 2))(input)\n",
    "        pool1 = MaxPooling2D(pool_size=(3, 3), strides=(2, 2), border_mode=\"same\")(conv1)\n",
    "\n",
    "        block = pool1\n",
    "        nb_filter = 64\n",
    "        for i, r in enumerate(repetitions):\n",
    "            block = _residual_block(block_fn, nb_filter=nb_filter, repetitions=r, is_first_layer=(i == 0))(block)\n",
    "            nb_filter *= 2\n",
    "\n",
    "        # Last activation\n",
    "        block = _bn_relu(block)\n",
    "\n",
    "        block_norm = BatchNormalization(mode=0, axis=CHANNEL_AXIS)(block)\n",
    "        block_output = Activation(\"relu\")(block_norm)\n",
    "\n",
    "        # Classifier block\n",
    "        block_shape = K.int_shape(block)\n",
    "        pool2 = AveragePooling2D(pool_size=(block_shape[ROW_AXIS], block_shape[COL_AXIS]),\n",
    "                                 strides=(1, 1))(block_output)\n",
    "        flatten1 = Flatten()(pool2)\n",
    "        dense = Dense(output_dim=num_outputs, init=\"he_normal\", activation=\"softmax\")(flatten1)\n",
    "        #dense = Dense(output_dim=num_outputs, W_regularizer=l2(0.01), init=\"he_normal\", activation=\"linear\")(flatten1)\n",
    "\n",
    "        model = Model(input=input, output=dense)\n",
    "        return model\n",
    "\n",
    "    @staticmethod\n",
    "    def build_resnet_test(input_shape, num_outputs):\n",
    "        return ResnetBuilder.build(input_shape, num_outputs, basic_block, [1, 1, 1, 1])\n",
    "\n",
    "    @staticmethod\n",
    "    def build_resnet_18(input_shape, num_outputs):\n",
    "        return ResnetBuilder.build(input_shape, num_outputs, basic_block, [2, 2, 2, 2])\n",
    "\n",
    "    @staticmethod\n",
    "    def build_resnet_34(input_shape, num_outputs):\n",
    "        return ResnetBuilder.build(input_shape, num_outputs, basic_block, [3, 4, 6, 3])\n",
    "\n",
    "    @staticmethod\n",
    "    def build_resnet_50(input_shape, num_outputs):\n",
    "        return ResnetBuilder.build(input_shape, num_outputs, bottleneck, [3, 4, 6, 3])\n",
    "\n",
    "    @staticmethod\n",
    "    def build_resnet_101(input_shape, num_outputs):\n",
    "        return ResnetBuilder.build(input_shape, num_outputs, bottleneck, [3, 4, 23, 3])\n",
    "\n",
    "    @staticmethod\n",
    "    def build_resnet_152(input_shape, num_outputs):\n",
    "        return ResnetBuilder.build(input_shape, num_outputs, bottleneck, [3, 8, 36, 3])"
   ]
  },
  {
   "cell_type": "markdown",
   "metadata": {
    "deletable": true,
    "editable": true
   },
   "source": [
    "## Batch Generator for model fit_generator"
   ]
  },
  {
   "cell_type": "code",
   "execution_count": 14,
   "metadata": {
    "collapsed": true,
    "deletable": true,
    "editable": true
   },
   "outputs": [],
   "source": [
    "def batch_generator_train(files, batch_size):\n",
    "    number_of_batches = np.ceil(len(files)/batch_size)\n",
    "    counter = 0\n",
    "    random.shuffle(files)\n",
    "    while True:\n",
    "        batch_files = files[batch_size*counter:batch_size*(counter+1)]\n",
    "        image_list = []\n",
    "        mask_list = []\n",
    "        for f in batch_files:\n",
    "            image = cv2.imread(f)\n",
    "            image = cv2.resize(image, conf['image_shape'])\n",
    "\n",
    "            cancer_type = f[20:21] # relies on path lengths that is hard coded below\n",
    "            if cancer_type == '1':\n",
    "                mask = [1, 0, 0]\n",
    "            elif cancer_type == '2':\n",
    "                mask = [0, 1, 0]\n",
    "            else:\n",
    "                mask = [0, 0, 1]\n",
    "\n",
    "            image_list.append(image)\n",
    "            mask_list.append(mask)\n",
    "        counter += 1\n",
    "        image_list = np.array(image_list)\n",
    "        mask_list = np.array(mask_list)\n",
    "\n",
    "        yield image_list, mask_list\n",
    "\n",
    "        if counter == number_of_batches:\n",
    "            random.shuffle(files)\n",
    "            counter = 0"
   ]
  },
  {
   "cell_type": "markdown",
   "metadata": {
    "deletable": true,
    "editable": true
   },
   "source": [
    "## Hardcoded paths to training files. Note that \"additional\" has been renamed to \"add01\" since the path lengths must be the same for substring extraction."
   ]
  },
  {
   "cell_type": "code",
   "execution_count": 15,
   "metadata": {
    "collapsed": true,
    "deletable": true,
    "editable": true
   },
   "outputs": [],
   "source": [
    "# file paths to training and additional samples\n",
    "filepaths = []\n",
    "filepaths.append('../data/train/Type_1/')\n",
    "filepaths.append('../data/train/Type_2/')\n",
    "filepaths.append('../data/train/Type_3/')"
   ]
  },
  {
   "cell_type": "markdown",
   "metadata": {
    "deletable": true,
    "editable": true
   },
   "source": [
    "## Get a list of all training files"
   ]
  },
  {
   "cell_type": "code",
   "execution_count": 16,
   "metadata": {
    "collapsed": true,
    "deletable": true,
    "editable": true
   },
   "outputs": [],
   "source": [
    "allFiles = []\n",
    "\n",
    "for i, filepath in enumerate(filepaths):\n",
    "    files = glob.glob(filepath + '*.jpg')\n",
    "    allFiles = allFiles + files"
   ]
  },
  {
   "cell_type": "markdown",
   "metadata": {
    "deletable": true,
    "editable": true
   },
   "source": [
    "## Split data into training and validation sets"
   ]
  },
  {
   "cell_type": "code",
   "execution_count": 17,
   "metadata": {
    "collapsed": false,
    "deletable": true,
    "editable": true
   },
   "outputs": [
    {
     "name": "stdout",
     "output_type": "stream",
     "text": [
      "Train patients: 1111\n",
      "Valid patients: 370\n"
     ]
    }
   ],
   "source": [
    "split_point = int(round(conf['train_valid_fraction']*len(allFiles)))\n",
    "\n",
    "random.shuffle(allFiles)\n",
    "\n",
    "train_list = allFiles[:split_point]\n",
    "valid_list = allFiles[split_point:]\n",
    "print('Train patients: {}'.format(len(train_list)))\n",
    "print('Valid patients: {}'.format(len(valid_list)))"
   ]
  },
  {
   "cell_type": "markdown",
   "metadata": {
    "deletable": true,
    "editable": true
   },
   "source": [
    "## Testing model generator"
   ]
  },
  {
   "cell_type": "code",
   "execution_count": 24,
   "metadata": {
    "collapsed": false,
    "deletable": true,
    "editable": true
   },
   "outputs": [
    {
     "name": "stdout",
     "output_type": "stream",
     "text": [
      "Create and compile model...\n"
     ]
    },
    {
     "name": "stderr",
     "output_type": "stream",
     "text": [
      "/home/matt/Envs/keras/lib/python2.7/site-packages/ipykernel/__main__.py:14: UserWarning: Update your `Conv2D` call to the Keras 2 API: `Conv2D(kernel_initializer=\"he_normal\", padding=\"same\", strides=(2, 2), kernel_regularizer=<keras.reg..., filters=64, kernel_size=(7, 7))`\n",
      "/home/matt/Envs/keras/lib/python2.7/site-packages/ipykernel/__main__.py:30: UserWarning: Update your `MaxPooling2D` call to the Keras 2 API: `MaxPooling2D(padding=\"same\", strides=(2, 2), pool_size=(3, 3))`\n",
      "/home/matt/Envs/keras/lib/python2.7/site-packages/ipykernel/__main__.py:13: UserWarning: Update your `Conv2D` call to the Keras 2 API: `Conv2D(kernel_initializer=\"he_normal\", padding=\"same\", strides=(1, 1), kernel_regularizer=<keras.reg..., filters=64, kernel_size=(3, 3))`\n",
      "/home/matt/Envs/keras/lib/python2.7/site-packages/ipykernel/__main__.py:16: UserWarning: Update your `Conv2D` call to the Keras 2 API: `Conv2D(kernel_initializer=\"he_normal\", padding=\"same\", strides=(1, 1), kernel_regularizer=<keras.reg..., filters=64, kernel_size=(3, 3))`\n",
      "/home/matt/Envs/keras/lib/python2.7/site-packages/ipykernel/__main__.py:22: UserWarning: The `merge` function is deprecated and will be removed after 08/2017. Use instead layers from `keras.layers.merge`, e.g. `add`, `concatenate`, etc.\n",
      "/home/matt/Envs/keras/lib/python2.7/site-packages/ipykernel/__main__.py:16: UserWarning: Update your `Conv2D` call to the Keras 2 API: `Conv2D(kernel_initializer=\"he_normal\", padding=\"same\", strides=(2, 2), kernel_regularizer=<keras.reg..., filters=128, kernel_size=(3, 3))`\n",
      "/home/matt/Envs/keras/lib/python2.7/site-packages/ipykernel/__main__.py:16: UserWarning: Update your `Conv2D` call to the Keras 2 API: `Conv2D(kernel_initializer=\"he_normal\", padding=\"same\", strides=(1, 1), kernel_regularizer=<keras.reg..., filters=128, kernel_size=(3, 3))`\n",
      "/home/matt/Envs/keras/lib/python2.7/site-packages/ipykernel/__main__.py:20: UserWarning: Update your `Conv2D` call to the Keras 2 API: `Conv2D(kernel_initializer=\"he_normal\", padding=\"valid\", strides=(2, 2), kernel_regularizer=<keras.reg..., filters=128, kernel_size=(1, 1))`\n",
      "/home/matt/Envs/keras/lib/python2.7/site-packages/ipykernel/__main__.py:16: UserWarning: Update your `Conv2D` call to the Keras 2 API: `Conv2D(kernel_initializer=\"he_normal\", padding=\"same\", strides=(2, 2), kernel_regularizer=<keras.reg..., filters=256, kernel_size=(3, 3))`\n",
      "/home/matt/Envs/keras/lib/python2.7/site-packages/ipykernel/__main__.py:16: UserWarning: Update your `Conv2D` call to the Keras 2 API: `Conv2D(kernel_initializer=\"he_normal\", padding=\"same\", strides=(1, 1), kernel_regularizer=<keras.reg..., filters=256, kernel_size=(3, 3))`\n",
      "/home/matt/Envs/keras/lib/python2.7/site-packages/ipykernel/__main__.py:20: UserWarning: Update your `Conv2D` call to the Keras 2 API: `Conv2D(kernel_initializer=\"he_normal\", padding=\"valid\", strides=(2, 2), kernel_regularizer=<keras.reg..., filters=256, kernel_size=(1, 1))`\n",
      "/home/matt/Envs/keras/lib/python2.7/site-packages/ipykernel/__main__.py:16: UserWarning: Update your `Conv2D` call to the Keras 2 API: `Conv2D(kernel_initializer=\"he_normal\", padding=\"same\", strides=(2, 2), kernel_regularizer=<keras.reg..., filters=512, kernel_size=(3, 3))`\n",
      "/home/matt/Envs/keras/lib/python2.7/site-packages/ipykernel/__main__.py:16: UserWarning: Update your `Conv2D` call to the Keras 2 API: `Conv2D(kernel_initializer=\"he_normal\", padding=\"same\", strides=(1, 1), kernel_regularizer=<keras.reg..., filters=512, kernel_size=(3, 3))`\n",
      "/home/matt/Envs/keras/lib/python2.7/site-packages/ipykernel/__main__.py:20: UserWarning: Update your `Conv2D` call to the Keras 2 API: `Conv2D(kernel_initializer=\"he_normal\", padding=\"valid\", strides=(2, 2), kernel_regularizer=<keras.reg..., filters=512, kernel_size=(1, 1))`\n",
      "/home/matt/Envs/keras/lib/python2.7/site-packages/ipykernel/__main__.py:41: UserWarning: Update your `BatchNormalization` call to the Keras 2 API: `BatchNormalization(axis=3)`\n",
      "/home/matt/Envs/keras/lib/python2.7/site-packages/ipykernel/__main__.py:49: UserWarning: Update your `Dense` call to the Keras 2 API: `Dense(units=3, activation=\"softmax\", kernel_initializer=\"he_normal\")`\n",
      "/home/matt/Envs/keras/lib/python2.7/site-packages/ipykernel/__main__.py:52: UserWarning: Update your `Model` call to the Keras 2 API: `Model(outputs=Softmax.0, inputs=/input_5)`\n",
      "/home/matt/Envs/keras/lib/python2.7/site-packages/ipykernel/__main__.py:25: UserWarning: Update your `fit_generator` call to the Keras 2 API: `fit_generator(verbose=2, generator=<generator..., validation_data=<generator..., steps_per_epoch=1111, epochs=10, callbacks=[<keras.ca..., validation_steps=370)`\n"
     ]
    },
    {
     "name": "stdout",
     "output_type": "stream",
     "text": [
      "Fit model...\n",
      "Epoch 1/10\n",
      "194s - loss: 0.6850 - acc: 0.9973 - val_loss: 0.4011 - val_acc: 1.0000\n",
      "Epoch 2/10\n",
      "192s - loss: 0.1317 - acc: 1.0000 - val_loss: 0.5303 - val_acc: 1.0000\n",
      "Epoch 3/10\n",
      "194s - loss: 0.0350 - acc: 1.0000 - val_loss: 1.0245 - val_acc: 0.7973\n",
      "Epoch 4/10\n",
      "192s - loss: 0.0095 - acc: 1.0000 - val_loss: 1.0435 - val_acc: 0.6324\n",
      "Epoch 5/10\n",
      "193s - loss: 0.0024 - acc: 1.0000 - val_loss: 1.0645 - val_acc: 1.0000\n"
     ]
    }
   ],
   "source": [
    "print('Create and compile model...')\n",
    "\n",
    "nb_classes = 3\n",
    "img_rows, img_cols = conf['image_shape'][1], conf['image_shape'][0]\n",
    "img_channels = 3\n",
    "\n",
    "model = ResnetBuilder.build_resnet_34((img_channels, img_rows, img_cols), nb_classes)\n",
    "model.compile(loss='categorical_crossentropy', optimizer='adam', metrics=['accuracy'])\n",
    "#model.compile(loss='hinge',optimizer='adadelta',metrics=['accuracy'])\n",
    "\n",
    "callbacks = [\n",
    "    EarlyStopping(monitor='val_loss', patience=conf['patience'], verbose=0),\n",
    "]#    ModelCheckpoint('cervical_best.hdf5', monitor='val_loss', save_best_only=True, verbose=0),\n",
    "#]\n",
    "\n",
    "print('Fit model...')\n",
    "fit = model.fit_generator(generator=batch_generator_train(train_list, conf['batch_size']),\n",
    "                      nb_epoch=conf['nb_epoch'],\n",
    "                      steps_per_epoch=int(np.ceil(len(train_list) / conf['batch_size'])),\n",
    "                      #samples_per_epoch=3,\n",
    "                      validation_data=batch_generator_train(valid_list, conf['batch_size']),\n",
    "                      validation_steps=int(np.ceil(len(valid_list) / conf['batch_size'])),\n",
    "                      #nb_val_samples=1,\n",
    "                      verbose=2,\n",
    "                      callbacks=callbacks)"
   ]
  },
  {
   "cell_type": "markdown",
   "metadata": {
    "deletable": true,
    "editable": true
   },
   "source": [
    "## Create submission files with prediction for submission"
   ]
  },
  {
   "cell_type": "code",
   "execution_count": null,
   "metadata": {
    "collapsed": true,
    "deletable": true,
    "editable": true
   },
   "outputs": [],
   "source": [
    "#from keras.models import load_model\n",
    "#model = load_model('cervical_best.hdf5')\n",
    "\n",
    "sample_subm = pd.read_csv(\"../input/sample_submission.csv\")\n",
    "ids = sample_subm['image_name'].values\n",
    "\n",
    "for id in ids:\n",
    "    print('Predict for image {}'.format(id))\n",
    "    files = glob.glob(\"../input/test/\" + id)\n",
    "    image_list = []\n",
    "    for f in files:\n",
    "        image = cv2.imread(f)\n",
    "        image = cv2.resize(image, conf['image_shape'])\n",
    "        image_list.append(image)\n",
    "        \n",
    "    image_list = np.array(image_list)\n",
    "\n",
    "    predictions = model.predict(image_list, verbose=1, batch_size=1)\n",
    "\n",
    "    sample_subm.loc[sample_subm['image_name'] == id, 'Type_1'] = predictions[0,0]\n",
    "    sample_subm.loc[sample_subm['image_name'] == id, 'Type_2'] = predictions[0,1]\n",
    "    sample_subm.loc[sample_subm['image_name'] == id, 'Type_3'] = predictions[0,2]\n",
    "    \n",
    "sample_subm.to_csv(\"subm.csv\", index=False)"
   ]
  },
  {
   "cell_type": "code",
   "execution_count": 62,
   "metadata": {
    "collapsed": false,
    "deletable": true,
    "editable": true
   },
   "outputs": [
    {
     "data": {
      "text/plain": [
       "(64, 64)"
      ]
     },
     "execution_count": 62,
     "metadata": {},
     "output_type": "execute_result"
    }
   ],
   "source": [
    "conf['image_shape']"
   ]
  },
  {
   "cell_type": "code",
   "execution_count": 65,
   "metadata": {
    "collapsed": false,
    "deletable": true,
    "editable": true
   },
   "outputs": [
    {
     "name": "stdout",
     "output_type": "stream",
     "text": [
      "(640, 480, 3)\n",
      "(640, 480, 3)\n",
      "(640, 480, 3)\n",
      "(640, 480, 3)\n",
      "(640, 480, 3)\n",
      "(640, 480, 3)\n"
     ]
    }
   ],
   "source": [
    "for f in allFiles:\n",
    "    image = cv2.imread(f)\n",
    "    if image.shape[0]<512 or image.shape[1]<512:\n",
    "        print(image.shape)"
   ]
  },
  {
   "cell_type": "code",
   "execution_count": null,
   "metadata": {
    "collapsed": true,
    "deletable": true,
    "editable": true
   },
   "outputs": [],
   "source": []
  }
 ],
 "metadata": {
  "kernelspec": {
   "display_name": "Python 2",
   "language": "python",
   "name": "python2"
  },
  "language_info": {
   "codemirror_mode": {
    "name": "ipython",
    "version": 2
   },
   "file_extension": ".py",
   "mimetype": "text/x-python",
   "name": "python",
   "nbconvert_exporter": "python",
   "pygments_lexer": "ipython2",
   "version": "2.7.12"
  }
 },
 "nbformat": 4,
 "nbformat_minor": 0
}
